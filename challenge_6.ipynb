{
 "cells": [
  {
   "cell_type": "markdown",
   "metadata": {},
   "source": [
    "Import necessary dependencies:"
   ]
  },
  {
   "cell_type": "code",
   "execution_count": 44,
   "metadata": {},
   "outputs": [],
   "source": [
    "import boto3\n",
    "import csv\n",
    "import os\n",
    "import logging\n",
    "import argparse\n",
    "import json\n",
    "import psycopg2\n",
    "from psycopg2.extras import RealDictCursor\n",
    "from os import environ\n",
    "from dotenv import load_dotenv"
   ]
  },
  {
   "cell_type": "markdown",
   "metadata": {},
   "source": [
    "Create connection to database:"
   ]
  },
  {
   "cell_type": "code",
   "execution_count": 45,
   "metadata": {},
   "outputs": [],
   "source": [
    "def get_connection():\n",
    "    \"\"\"Returns connection\"\"\"\n",
    "    return psycopg2.connect(\n",
    "        dbname=environ.get(\"DB_NAME\"),\n",
    "        host=environ.get(\"HOST\"),\n",
    "        user=environ.get(\"USERNAME\"),\n",
    "        password=environ.get(\"PASSWORD\")\n",
    "    )\n",
    "\n",
    "\n",
    "def get_cursor(conn):\n",
    "    \"\"\"Returns cursor object\"\"\"\n",
    "    return conn.cursor(cursor_factory=RealDictCursor)\n",
    "\n",
    "load_dotenv()\n",
    "conn = get_connection()\n",
    "cursor = get_cursor(conn)"
   ]
  },
  {
   "cell_type": "markdown",
   "metadata": {},
   "source": [
    "SQL Queries:"
   ]
  },
  {
   "cell_type": "markdown",
   "metadata": {},
   "source": [
    "Most frequently visited exhibition:"
   ]
  },
  {
   "cell_type": "code",
   "execution_count": 46,
   "metadata": {},
   "outputs": [
    {
     "name": "stdout",
     "output_type": "stream",
     "text": [
      "Exhibition: Our Polluted World\n",
      "Number of rating interactions: 481\n"
     ]
    }
   ],
   "source": [
    "cursor.execute(\"\"\"\n",
    "    SELECT exhibition_name, count(rating_id) as count_ratings from exhibition as e\n",
    "    join rating_interaction as ri on ri.exhibition_id = e.exhibition_id\n",
    "    group by exhibition_name\n",
    "    order by count_ratings DESC\n",
    "    limit 1;\n",
    "\"\"\")\n",
    "conn.commit()\n",
    "most_visited = cursor.fetchall()\n",
    "\n",
    "for row in most_visited:\n",
    "    print(f\"Exhibition: {row['exhibition_name']}\")\n",
    "    print(f\"Number of rating interactions: {row['count_ratings']}\")"
   ]
  },
  {
   "cell_type": "markdown",
   "metadata": {},
   "source": [
    "Hour of day with most ratings:"
   ]
  },
  {
   "cell_type": "code",
   "execution_count": 47,
   "metadata": {},
   "outputs": [
    {
     "name": "stdout",
     "output_type": "stream",
     "text": [
      "Busiest hour: 10\n",
      "Number of ratings during this hour: 232\n"
     ]
    }
   ],
   "source": [
    "cursor.execute(\"\"\"\n",
    "    select EXTRACT(HOUR FROM event_at) as hour, count(rating_interaction_id) as num_ratings\n",
    "    from rating_interaction\n",
    "    group by hour\n",
    "    order by num_ratings DESC\n",
    "    limit 1;\n",
    "\"\"\")\n",
    "conn.commit()\n",
    "busy_hour = cursor.fetchone()\n",
    "\n",
    "print(f\"Busiest hour: {busy_hour['hour']}\")\n",
    "print(f\"Number of ratings during this hour: {busy_hour['num_ratings']}\")"
   ]
  },
  {
   "cell_type": "markdown",
   "metadata": {},
   "source": [
    "What exhibition has the most emergencies?"
   ]
  },
  {
   "cell_type": "code",
   "execution_count": 48,
   "metadata": {},
   "outputs": [
    {
     "name": "stdout",
     "output_type": "stream",
     "text": [
      "Exhibition name: The Crenshaw Collection\n",
      "Number of emergencies: 2\n"
     ]
    }
   ],
   "source": [
    "cursor.execute(\"\"\"\n",
    "    select count(request_interaction_id) as num_emg, e.exhibition_name\n",
    "    from request_interaction as ri\n",
    "    join exhibition as e on e.exhibition_id = ri.exhibition_id\n",
    "    where ri.request_id = 1.0\n",
    "    group by e.exhibition_name\n",
    "    order by num_emg;\n",
    "\"\"\")\n",
    "conn.commit()\n",
    "exhib_emg = cursor.fetchone()\n",
    "\n",
    "print(f\"Exhibition name: {exhib_emg['exhibition_name']}\")\n",
    "print(f\"Number of emergencies: {exhib_emg['num_emg']}\")"
   ]
  },
  {
   "cell_type": "markdown",
   "metadata": {},
   "source": [
    "What is the average rating for each exhibition?"
   ]
  },
  {
   "cell_type": "code",
   "execution_count": 49,
   "metadata": {},
   "outputs": [
    {
     "name": "stdout",
     "output_type": "stream",
     "text": [
      "Exhibition: Cetacean Sensations, AVG rating: 2.8305084745762712\n",
      "Exhibition: Adaptation, AVG rating: 1.9294117647058824\n",
      "Exhibition: Measureless to Man, AVG rating: 1.9169435215946844\n",
      "Exhibition: The Crenshaw Collection, AVG rating: 1.4259740259740260\n",
      "Exhibition: Our Polluted World, AVG rating: 1.2162162162162162\n"
     ]
    }
   ],
   "source": [
    "cursor.execute(\"\"\"\n",
    "    select AVG(ri.rating_id) as avg_rate, exhibition_name\n",
    "    from rating_interaction as ri\n",
    "    join exhibition as e on ri.exhibition_id = e.exhibition_id\n",
    "    group by exhibition_name\n",
    "    order by avg_rate DESC;\n",
    "\"\"\")\n",
    "\n",
    "conn.commit()\n",
    "avg_ratings = cursor.fetchall()\n",
    "\n",
    "for row in avg_ratings:\n",
    "    print(f\"Exhibition: {row['exhibition_name']}, AVG rating: {row['avg_rate']}\")"
   ]
  },
  {
   "cell_type": "markdown",
   "metadata": {},
   "source": [
    "Are positive ratings more frequent before or after 1pm? Answer: After 1pm (344 positive ratings)"
   ]
  },
  {
   "cell_type": "code",
   "execution_count": 50,
   "metadata": {},
   "outputs": [
    {
     "name": "stdout",
     "output_type": "stream",
     "text": [
      "Number of positive ratings after 1pm: 344\n"
     ]
    }
   ],
   "source": [
    "cursor.execute(\"\"\"\n",
    "with ratings_ph as (\n",
    "    select count(rating_interaction_id) as pos_rate, EXTRACT(HOUR FROM event_at) as hour\n",
    "    from rating_interaction as ri\n",
    "    where ri.rating_id > 2\n",
    "    group by hour\n",
    ")\n",
    "select SUM(pos_rate)\n",
    "from ratings_ph as rph\n",
    "where rph.hour >= 13;\n",
    "\"\"\")\n",
    "\n",
    "conn.commit()\n",
    "num_pos_rate = cursor.fetchone()\n",
    "\n",
    "print(f\"Number of positive ratings after 1pm: {num_pos_rate['sum']}\")\n"
   ]
  },
  {
   "cell_type": "markdown",
   "metadata": {},
   "source": [
    "Do Zoology exhibitions get better ratings than other types? Answer: Yes, yes they do."
   ]
  },
  {
   "cell_type": "code",
   "execution_count": 51,
   "metadata": {},
   "outputs": [
    {
     "name": "stdout",
     "output_type": "stream",
     "text": [
      "Department: Zoology, AVG rating: 2.1995332555425904\n",
      "Department: Entomology, AVG rating: 1.9294117647058824\n",
      "Department: Geology, AVG rating: 1.9169435215946844\n",
      "Department: Ecology, AVG rating: 1.2162162162162162\n"
     ]
    }
   ],
   "source": [
    "cursor.execute(\"\"\"select AVG(ri.rating_id) as avg_rate, department_name\n",
    "from rating_interaction as ri\n",
    "join exhibition as e on ri.exhibition_id = e.exhibition_id\n",
    "join department as d on d.department_id = e.department_id\n",
    "group by department_name\n",
    "order by avg_rate DESC;\"\"\")\n",
    "\n",
    "conn.commit()\n",
    "depart_ratings = cursor.fetchall()\n",
    "\n",
    "for row in depart_ratings:\n",
    "    print(f\"Department: {row['department_name']}, AVG rating: {row['avg_rate']}\")"
   ]
  }
 ],
 "metadata": {
  "kernelspec": {
   "display_name": "Python 3",
   "language": "python",
   "name": "python3"
  },
  "language_info": {
   "codemirror_mode": {
    "name": "ipython",
    "version": 3
   },
   "file_extension": ".py",
   "mimetype": "text/x-python",
   "name": "python",
   "nbconvert_exporter": "python",
   "pygments_lexer": "ipython3",
   "version": "3.11.6"
  }
 },
 "nbformat": 4,
 "nbformat_minor": 2
}
